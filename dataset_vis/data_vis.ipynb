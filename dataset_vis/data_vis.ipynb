{
  "nbformat": 4,
  "nbformat_minor": 0,
  "metadata": {
    "colab": {
      "provenance": []
    },
    "kernelspec": {
      "name": "python3",
      "display_name": "Python 3"
    },
    "language_info": {
      "name": "python"
    }
  },
  "cells": [
    {
      "cell_type": "code",
      "execution_count": 2,
      "metadata": {
        "id": "QpiLIcxgVtJH"
      },
      "outputs": [],
      "source": [
        "import pandas as pd\n",
        "import numpy as np\n",
        "import matplotlib.pyplot as plt"
      ]
    },
    {
      "cell_type": "code",
      "source": [
        "from google.colab import drive\n",
        "drive.mount('/content/drive')"
      ],
      "metadata": {
        "colab": {
          "base_uri": "https://localhost:8080/"
        },
        "id": "0CKCFTIfVx_z",
        "outputId": "99e937ce-dce8-4c55-a6a2-6bc68d2dbed3"
      },
      "execution_count": 3,
      "outputs": [
        {
          "output_type": "stream",
          "name": "stdout",
          "text": [
            "Mounted at /content/drive\n"
          ]
        }
      ]
    },
    {
      "cell_type": "code",
      "source": [
        "# read the random_forest data\n",
        "data = pd.read_csv(\"/content/drive/MyDrive/results/word2vec.csv\")\n",
        "\n",
        "\n",
        "# select the features and targets\n",
        "features = ['num_samples', 'num_features', 'dataset_size']\n",
        "targets = ['Memory Usage','Total Time']\n",
        "\n",
        "\n",
        "# assign the features and targets to X and y\n",
        "X = data[features]\n",
        "y = data[targets]\n",
        "\n",
        "# Create a list to store the paths of saved PDFs\n",
        "pdf_paths = []"
      ],
      "metadata": {
        "id": "NZ_2ceSwV0_G"
      },
      "execution_count": 10,
      "outputs": []
    },
    {
      "cell_type": "code",
      "source": [
        "# Loop through each feature and target to create plots\n",
        "for feature in features:\n",
        "    for target in targets:\n",
        "        # Create a new figure for each plot\n",
        "        plt.figure(figsize=(8, 6))\n",
        "\n",
        "        # Scatter plot or line plot depending on your data type\n",
        "        if X[feature].dtype == 'int64' or X[feature].dtype == 'float64':\n",
        "            # If the feature is numeric, create a scatter plot\n",
        "            plt.scatter(X[feature], y[target], label=f'{feature} vs {target}')\n",
        "            plt.xlabel(feature)\n",
        "            plt.ylabel(target)\n",
        "        else:\n",
        "            # If the feature is categorical, create a bar plot\n",
        "            data_grouped = data.groupby(feature)[target].mean()\n",
        "            data_grouped.plot(kind='bar', rot=0)\n",
        "            plt.xlabel(feature)\n",
        "            plt.ylabel(f'Mean {target}')\n",
        "\n",
        "        plt.title(f'{feature} vs {target}')\n",
        "        plt.legend()\n",
        "        plt.grid()\n",
        "\n",
        "        # Save the plot as a PDF\n",
        "        pdf_path = f'{feature}_vs_{target}.pdf'\n",
        "        plt.savefig(pdf_path, format='pdf')\n",
        "        pdf_paths.append(pdf_path)\n",
        "        plt.close()"
      ],
      "metadata": {
        "id": "64p6-02tXs5d"
      },
      "execution_count": 11,
      "outputs": []
    }
  ]
}